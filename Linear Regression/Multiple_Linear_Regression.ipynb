{
  "nbformat": 4,
  "nbformat_minor": 0,
  "metadata": {
    "colab": {
      "name": "Multiple Linear Regression.ipynb",
      "provenance": []
    },
    "kernelspec": {
      "name": "python3",
      "display_name": "Python 3"
    },
    "language_info": {
      "name": "python"
    }
  },
  "cells": [
    {
      "cell_type": "markdown",
      "source": [
        "Importing the libraries"
      ],
      "metadata": {
        "id": "xWqjpNwAhaGJ"
      }
    },
    {
      "cell_type": "code",
      "execution_count": 1,
      "metadata": {
        "id": "kQNyJXf2hA-s"
      },
      "outputs": [],
      "source": [
        "import numpy as np \n",
        "import pandas as pd \n",
        "import matplotlib.pyplot as plt"
      ]
    },
    {
      "cell_type": "markdown",
      "source": [
        "Importing the data"
      ],
      "metadata": {
        "id": "siNQxM2hhjYb"
      }
    },
    {
      "cell_type": "code",
      "source": [
        "data = pd.read_csv('/content/drive/MyDrive/Machine Learning/50_Startups.csv')"
      ],
      "metadata": {
        "id": "UZfRPUnLhkyh"
      },
      "execution_count": 2,
      "outputs": []
    },
    {
      "cell_type": "markdown",
      "source": [
        "Dividing the independent and target variables"
      ],
      "metadata": {
        "id": "GzVaTEsXhx_T"
      }
    },
    {
      "cell_type": "code",
      "source": [
        "X = data.iloc[:, :-1]\n",
        "y = data.iloc[:, 4]"
      ],
      "metadata": {
        "id": "UFDpcftph10r"
      },
      "execution_count": 3,
      "outputs": []
    },
    {
      "cell_type": "markdown",
      "source": [
        "Converting the columns into categorical features"
      ],
      "metadata": {
        "id": "PXl-wq6LiBin"
      }
    },
    {
      "cell_type": "code",
      "source": [
        "states = pd.get_dummies(X['State'], drop_first=True)"
      ],
      "metadata": {
        "id": "IPksKIntiJY6"
      },
      "execution_count": 4,
      "outputs": []
    },
    {
      "cell_type": "markdown",
      "source": [
        "Dropping the state column"
      ],
      "metadata": {
        "id": "U5IDnud-iSj5"
      }
    },
    {
      "cell_type": "code",
      "source": [
        "X = X.drop('State', axis=1)"
      ],
      "metadata": {
        "id": "4ROSfMw9iWFp"
      },
      "execution_count": 5,
      "outputs": []
    },
    {
      "cell_type": "markdown",
      "source": [
        "Adding the dummy variable now "
      ],
      "metadata": {
        "id": "2NpXT0VviaiD"
      }
    },
    {
      "cell_type": "code",
      "source": [
        "X = pd.concat([X, states], axis=1)"
      ],
      "metadata": {
        "id": "DlSinY6LihWQ"
      },
      "execution_count": 6,
      "outputs": []
    },
    {
      "cell_type": "markdown",
      "source": [
        "Splitting the data into train test"
      ],
      "metadata": {
        "id": "NPOUvXMLispa"
      }
    },
    {
      "cell_type": "code",
      "source": [
        "from sklearn.model_selection import train_test_split\n",
        "X_train, X_test, y_train, y_test = train_test_split(X, y, test_size=0.2, random_state=0)"
      ],
      "metadata": {
        "id": "fYDA_186ivY8"
      },
      "execution_count": 7,
      "outputs": []
    },
    {
      "cell_type": "markdown",
      "source": [
        "Multiple Linear Regression fitted to the train set"
      ],
      "metadata": {
        "id": "4EfbsdoKjEZx"
      }
    },
    {
      "cell_type": "code",
      "source": [
        "from sklearn.linear_model import LinearRegression\n",
        "linear_regr = LinearRegression()\n",
        "linear_regr.fit(X_train, y_train)"
      ],
      "metadata": {
        "colab": {
          "base_uri": "https://localhost:8080/"
        },
        "id": "EAiP-3_XjLYl",
        "outputId": "bac1cf04-834d-4a24-a972-8c651740fa95"
      },
      "execution_count": 8,
      "outputs": [
        {
          "output_type": "execute_result",
          "data": {
            "text/plain": [
              "LinearRegression()"
            ]
          },
          "metadata": {},
          "execution_count": 8
        }
      ]
    },
    {
      "cell_type": "markdown",
      "source": [
        "Predicting the test results "
      ],
      "metadata": {
        "id": "vKEpNIlEjgnG"
      }
    },
    {
      "cell_type": "code",
      "source": [
        "y_pred = linear_regr.predict(X_test)"
      ],
      "metadata": {
        "id": "V0WzpX7QjmMM"
      },
      "execution_count": 9,
      "outputs": []
    },
    {
      "cell_type": "code",
      "source": [
        "from sklearn.metrics import r2_score\n",
        "score = r2_score(y_test, y_pred)"
      ],
      "metadata": {
        "id": "0x0WKx7Hj1Bj"
      },
      "execution_count": 10,
      "outputs": []
    }
  ]
}